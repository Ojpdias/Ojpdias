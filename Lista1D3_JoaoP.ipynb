{
  "nbformat": 4,
  "nbformat_minor": 0,
  "metadata": {
    "colab": {
      "provenance": [],
      "authorship_tag": "ABX9TyM6DOcD5FfhOi/GFDNPWaOX",
      "include_colab_link": true
    },
    "kernelspec": {
      "name": "python3",
      "display_name": "Python 3"
    },
    "language_info": {
      "name": "python"
    }
  },
  "cells": [
    {
      "cell_type": "markdown",
      "metadata": {
        "id": "view-in-github",
        "colab_type": "text"
      },
      "source": [
        "<a href=\"https://colab.research.google.com/github/Ojpdias/Ojpdias/blob/main/Lista1D3_JoaoP.ipynb\" target=\"_parent\"><img src=\"https://colab.research.google.com/assets/colab-badge.svg\" alt=\"Open In Colab\"/></a>"
      ]
    },
    {
      "cell_type": "markdown",
      "source": [
        "lista de exercicio 1."
      ],
      "metadata": {
        "id": "B3gO9gGl97r7"
      }
    },
    {
      "cell_type": "code",
      "execution_count": null,
      "metadata": {
        "colab": {
          "base_uri": "https://localhost:8080/"
        },
        "id": "SjOT-Is37AdG",
        "outputId": "cbe20ce5-bc37-4533-f715-1442cd569291"
      },
      "outputs": [
        {
          "output_type": "stream",
          "name": "stdout",
          "text": [
            "Meu primeiro programa!!!\n"
          ]
        }
      ],
      "source": [
        "#1. Escreva um programa que apresente na tela a frase: \"Meu primeiro programa!!!\"\n",
        "print(\"Meu primeiro programa!!!\");"
      ]
    },
    {
      "cell_type": "code",
      "source": [
        "#2. Escreva um programa que solicite ao usuário um número inteiro e ao final apresente na telao número informado pelo usuário do programa\n",
        "num1=input(\"informe um número: \");\n",
        "print(num1)"
      ],
      "metadata": {
        "colab": {
          "base_uri": "https://localhost:8080/"
        },
        "id": "ENej8Wg8GpVm",
        "outputId": "702f814b-2985-4d8c-e601-9fce880a06aa"
      },
      "execution_count": null,
      "outputs": [
        {
          "output_type": "stream",
          "name": "stdout",
          "text": [
            "informe o num1:8\n",
            "8\n"
          ]
        }
      ]
    },
    {
      "cell_type": "code",
      "source": [
        "#3. Escreva um programa que solicite ao usuário um número inteiro e ao final apresente na telao número informado da seguinte forma: \"Foi informado o valor: X\n",
        "num1=int(input(\"informe um número: \"))\n",
        "print(f\"foi informado o valor: {num1}\")"
      ],
      "metadata": {
        "colab": {
          "base_uri": "https://localhost:8080/"
        },
        "id": "Vmij_xrlH-3r",
        "outputId": "440d127f-2e17-4a8a-81e4-e4c49751001d"
      },
      "execution_count": 11,
      "outputs": [
        {
          "output_type": "stream",
          "name": "stdout",
          "text": [
            "informe um número: 10\n",
            "foi informado o valor: 10\n"
          ]
        }
      ]
    },
    {
      "cell_type": "code",
      "source": [
        "#4. Escreva um programa que solicite ao usuário dois números inteiros e ao final\n",
        "#apresente natela os dois números informados da seguinte forma: \"Voce informou os numeros X e Y\"\n",
        "num1=int(input(\"informe o primeiro número: \"))\n",
        "num2=int(input(\"informe o segundo número: \"))\n",
        "print(f\"Voce informou os numeros {num1} e {num2}\")"
      ],
      "metadata": {
        "colab": {
          "base_uri": "https://localhost:8080/"
        },
        "id": "E-RyH4NjIpuC",
        "outputId": "3ed0ac9a-bf76-43f9-ddfd-d63a4f8f2aa7"
      },
      "execution_count": 14,
      "outputs": [
        {
          "output_type": "stream",
          "name": "stdout",
          "text": [
            "informe o primeiro número: 10\n",
            "informe o segundo número: 7\n",
            "Voce informou os numeros 10 e 7\n"
          ]
        }
      ]
    },
    {
      "cell_type": "code",
      "source": [
        "#5. Escreva um programa que solicite ao usuário um número real e ao\n",
        "#final apresente na tela o número informado formatado com duas casas decimais da seguinte forma: \"Voce informou o numero X.YY\n",
        "num1=float(input(\"informe um número quebrado: \"))\n",
        "print(f\"você informou o número {num1:.2f}\")"
      ],
      "metadata": {
        "id": "e4VxFVxuJzi2",
        "colab": {
          "base_uri": "https://localhost:8080/"
        },
        "outputId": "b6dd9b29-1321-495c-d5a7-484d89cd52e1"
      },
      "execution_count": 10,
      "outputs": [
        {
          "output_type": "stream",
          "name": "stdout",
          "text": [
            "informe um número quebrado: 8.9446464\n",
            "você informou o número 8.94\n"
          ]
        }
      ]
    },
    {
      "cell_type": "code",
      "source": [
        "#6. Escreva um programa que solicite ao usuário a temperatura em graus Celsius\n",
        "#e ao final apresente a temperatura correspondente em graus Farenheit. F = Celsius * 1.8 + 32\n",
        "graus=float(input(\"informe a temperatura em Celsius: \"))\n",
        "grausF = graus * 1.8 + 32\n",
        "print(f\"A temperatura em Farenheit é: {grausF}\")"
      ],
      "metadata": {
        "colab": {
          "base_uri": "https://localhost:8080/"
        },
        "id": "e_QXgHFWTzCn",
        "outputId": "a50cd3ca-e882-4fab-f1d5-c62308a8550f"
      },
      "execution_count": null,
      "outputs": [
        {
          "output_type": "stream",
          "name": "stdout",
          "text": [
            "informe a temperatura em Celsius: 34\n",
            "A temperatura em Farenheit é:  93.2\n"
          ]
        }
      ]
    },
    {
      "cell_type": "code",
      "source": [
        "#7. Escreva um programa que solicite ao usuário um número inteiro e um número real e\n",
        "#ao final apresente na tela os dois números informados formatando com duas casas decimaissomente o número real da seguinte forma: \"Voce informou os numeros N e X.YY\n",
        "numi=int(input(\"informe um número inteiro: \"))\n",
        "numr=float(input(\"informe um número quebrado: \"))\n",
        "print(f\"Você informou os numeros {numi} e {numr:.2f}\")"
      ],
      "metadata": {
        "colab": {
          "base_uri": "https://localhost:8080/"
        },
        "id": "IhrppbpKVii_",
        "outputId": "3b42aa26-f7f0-4652-df7d-e95b1681910f"
      },
      "execution_count": 9,
      "outputs": [
        {
          "output_type": "stream",
          "name": "stdout",
          "text": [
            "informe um número inteiro: 8\n",
            "informe um número quebrado: 10.8698\n",
            "Você informou os numeros 8 e 10.87\n"
          ]
        }
      ]
    },
    {
      "cell_type": "code",
      "source": [
        "#8. Escreva um programa que solicite ao usuário a primeira letra de seu nome e ao\n",
        "#final apresente na tela a letra informada pelo usuário da seguinte forma: \"Voce digitou w\"\n",
        "letra=str(input(\"Digite a primeira letra do seu nome: \"))\n",
        "print(f\"Você digitou {letra[0]}\")"
      ],
      "metadata": {
        "colab": {
          "base_uri": "https://localhost:8080/"
        },
        "id": "cl14mTuDZ-zQ",
        "outputId": "13b24f1b-0e80-424e-9fa6-39e1e59ef071"
      },
      "execution_count": 18,
      "outputs": [
        {
          "output_type": "stream",
          "name": "stdout",
          "text": [
            "Digite a primeira letra do seu nome: joao\n",
            "Você digitou j\n"
          ]
        }
      ]
    },
    {
      "cell_type": "code",
      "source": [
        "#9. Escreva um programa que solicite ao usuário o nome de sua cor preferida e ao\n",
        "#final apresente na tela a cor informada pelo usuário da seguinte forma: \"Voce gosta da cor AAA\n",
        "coresPermitidas=[\"vermelho\", \"laranja\", \"amarelo\", \"verde\", \"azul\", \"roxo\", \"rosa\", \"marrom\", \"cinza\", \"preto\", \"branco\"]\n",
        "cor=str(input(\"Digite sua cor favorita: \"))\n",
        "if cor in coresPermitidas:\n",
        "  print(f\"Você gosta da cor {cor}\")\n",
        "else:\n",
        "  print(\"Cor muito especifica ou não existe\")"
      ],
      "metadata": {
        "colab": {
          "base_uri": "https://localhost:8080/"
        },
        "id": "DEkgtlKSbC1p",
        "outputId": "352dc895-a1b9-41ce-cda8-79fbf66c665d"
      },
      "execution_count": null,
      "outputs": [
        {
          "output_type": "stream",
          "name": "stdout",
          "text": [
            "Digite sua cor favorita: azul\n",
            "Você gosta da cor azul\n"
          ]
        }
      ]
    },
    {
      "cell_type": "code",
      "source": [
        "#10. Escreva um programa que solicite ao usuário o nome de uma verdura e uma fruta de sua preferencia e ao\n",
        "#final apresente na tela as informações digitadas pelo usuário da seguinte forma: \"Voce gosta de AAAAAAA e BBBBBBB\"\n",
        "verduras_e_frutas = [\n",
        "    \"alface\", \"espinafre\", \"cenoura\", \"beterraba\", \"brócolis\", \"couve-flor\",\n",
        "    \"tomate\", \"abacaxi\", \"maçã\", \"banana\", \"laranja\", \"uva\",\n",
        "    \"morango\", \"pera\", \"manga\", \"pimentão\", \"abobrinha\", \"berinjela\",\n",
        "    \"cebola\", \"batata\", \"abóbora\", \"kiwi\", \"limão\", \"pêssego\",\n",
        "    \"abacate\", \"melancia\", \"goiaba\", \"melão\", \"pepino\", \"repolho\",\n",
        "    \"rabanete\", \"couve\", \"salsinha\", \"coentro\", \"pimenta\", \"laranja\",\n",
        "    \"framboesa\", \"cereja\", \"kiwi\", \"pêssego\", \"papaya\", \"melancia\"\n",
        "]\n",
        "verdura=str(input(\"Digite sua verdura preferida:\"))\n",
        "fruta=str(input(\"Digite sua fruta preferida:\"))\n",
        "if verdura and fruta in verduras_e_frutas:\n",
        "  print(f\"Voce gosta de {verdura} e {fruta}\")\n",
        "else:\n",
        "  print(\"Fruta ou verdura invalida\")"
      ],
      "metadata": {
        "colab": {
          "base_uri": "https://localhost:8080/"
        },
        "id": "T78GIhJ1dxoV",
        "outputId": "fd3997cf-e614-4449-8a7d-7dc89da13db7"
      },
      "execution_count": 19,
      "outputs": [
        {
          "output_type": "stream",
          "name": "stdout",
          "text": [
            "Digite sua verdura preferida:abóbora\n",
            "Digite sua fruta preferida:kiwi\n",
            "Voce gosta de abóbora e kiwi\n"
          ]
        }
      ]
    },
    {
      "cell_type": "code",
      "source": [
        "#11. Elabore um algoritmo que solicite ao usuário um número real e ao\n",
        "#final imprima na tela o numero informado e na linha de baixo o dobro deste número da seguinte forma:Numero -> X Dobro deste numero -> Y\n",
        "num=float(input(\"Digite um número:\"))\n",
        "numDobro= num * 2\n",
        "print(f\"Numero:{num}\")\n",
        "print(f\"Dobro deste numero é {numDobro}\")"
      ],
      "metadata": {
        "colab": {
          "base_uri": "https://localhost:8080/"
        },
        "id": "0BLZom-ohFM6",
        "outputId": "87e01ea4-5d38-4832-9c26-5d519b10692d"
      },
      "execution_count": 20,
      "outputs": [
        {
          "output_type": "stream",
          "name": "stdout",
          "text": [
            "Digite um número:8\n",
            "Numero:8.0\n",
            "Dobro deste numero é 16.0\n"
          ]
        }
      ]
    },
    {
      "cell_type": "code",
      "source": [
        "#12. Reescrever o programa anterior apresentando o quadrado e o cubo do número informado\n",
        "num=float(input(\"Digite um número:\"))\n",
        "numDobro=num * 2\n",
        "numQuadrado= num ** 2\n",
        "numCubo= num ** 3\n",
        "print(f\"Numero: {num} \\nDobro deste numero: {numDobro}\\nO quadrado deste numero {numQuadrado} \\nO cubo deste numero {numCubo}\")"
      ],
      "metadata": {
        "colab": {
          "base_uri": "https://localhost:8080/"
        },
        "id": "HlXvEavqj5vA",
        "outputId": "9ef66ae6-b60c-40e9-b75a-558b8316d132"
      },
      "execution_count": 26,
      "outputs": [
        {
          "output_type": "stream",
          "name": "stdout",
          "text": [
            "Digite um número:8\n",
            "Numero: 8.0 \n",
            "Dobro deste numero: 16.0\n",
            "O quadrado deste numero 64.0 \n",
            "O cubo deste numero 512.0\n"
          ]
        }
      ]
    },
    {
      "cell_type": "code",
      "source": [
        "#13. Escreva um programa que solicite ao usuário dois números inteiros e ao\n",
        "#final apresentena tela a soma dos dois números informados da seguinte forma: \"O numeros N e X somados correspondem a Y\"\n",
        "num1=int(input(\"Digite o primeiro número:\"))\n",
        "num2=int(input(\"Digite o segundo número:\"))\n",
        "nums= num1 + num2\n",
        "print(f\"Os numeros {num1} e {num2} somados correspondem a {nums}\")"
      ],
      "metadata": {
        "colab": {
          "base_uri": "https://localhost:8080/"
        },
        "id": "2vQsHlRqkucQ",
        "outputId": "ba1711be-1849-47fc-f33f-03d73537338f"
      },
      "execution_count": 27,
      "outputs": [
        {
          "output_type": "stream",
          "name": "stdout",
          "text": [
            "Digite o primeiro número:8\n",
            "Digite o segundo número:6\n",
            "Os numeros 8 e 6 somados correspondem a 14\n"
          ]
        }
      ]
    },
    {
      "cell_type": "code",
      "source": [
        "#14. Escreva um programa que solicite ao usuário dois números reais e ao\n",
        "#final apresente na tela o produto dos dois números informados da seguinte forma: \"O produto dos numeros N e X corresponde a Y\"\n",
        "num1=float(input(\"Digite o primeiro número:\"))\n",
        "num2=float(input(\"Digite o segundo número:\"))\n",
        "numMult= num1 * num2\n",
        "print(f\"O produto dos numeros {num1} e {num2} corresponde a {numMult}\")"
      ],
      "metadata": {
        "colab": {
          "base_uri": "https://localhost:8080/"
        },
        "id": "m474Vpa2l_7p",
        "outputId": "95952bdc-e971-458a-fe4f-ee95fcc0d6dd"
      },
      "execution_count": 28,
      "outputs": [
        {
          "output_type": "stream",
          "name": "stdout",
          "text": [
            "Digite o primeiro número:5\n",
            "Digite o segundo número:5\n",
            "O produto dos numeros 5.0 e 5.0 corresponde a 25.0\n"
          ]
        }
      ]
    },
    {
      "cell_type": "code",
      "source": [
        "#15. Refazer o programa 14 realizando as quatro operações aritméticas básicas\n",
        "num1=float(input(\"Digite o primeiro número:\"))\n",
        "num2=float(input(\"Digite o segundo número:\"))\n",
        "numSoma= num + num2\n",
        "numSub= num1 - num2\n",
        "numMult= num1 * num2\n",
        "numDiv= num1 / num2\n",
        "print(f\"A soma dos números {num1} e {num2}, corresponde a {numSoma}\")\n",
        "print(f\"A subtração dos números {num1} e {num2}, corresponde a {numSub}\")\n",
        "print(f\"O produto dos números {num1} e {num2}, corresponde a {numMult}\")\n",
        "print(f\"A divisão dos números {num1} e {num2}, corresponde a {numDiv}\")"
      ],
      "metadata": {
        "colab": {
          "base_uri": "https://localhost:8080/"
        },
        "id": "ySODkmAxnORy",
        "outputId": "85649fac-ebcb-4f67-efda-7078943b4b15"
      },
      "execution_count": 29,
      "outputs": [
        {
          "output_type": "stream",
          "name": "stdout",
          "text": [
            "Digite o primeiro número:8\n",
            "Digite o segundo número:2\n",
            "A soma dos números 8.0 e 2.0, corresponde a 10.0\n",
            "A subtração dos números 8.0 e 2.0, corresponde a 6.0\n",
            "O produto dos números 8.0 e 2.0, corresponde a 16.0\n",
            "A divisão dos números 8.0 e 2.0, corresponde a 4.0\n"
          ]
        }
      ]
    },
    {
      "cell_type": "code",
      "source": [
        "#16. Escreva um programa que solicite o valor fixo do salário de um vendedor, o total vendido no mês e o percentual de comissão do vendedor.\n",
        "#Ao final apresentar o salário bruto.\n",
        "salario=float(input(\"Informe seu salario:\"))\n",
        "vendido=float(input(\"Informe quanto foi vendido:\"))\n",
        "comissao=float(input(\"Informe sua comissão:\"))\n",
        "valorComissao= vendido * (comissao/100)\n",
        "valorBruto= salario + valorComissao\n",
        "print(f\"Seu salario bruto é: {valorBruto}\")"
      ],
      "metadata": {
        "colab": {
          "base_uri": "https://localhost:8080/"
        },
        "id": "VdJ6zoR6oYWc",
        "outputId": "a27f8ab6-fd47-4127-b035-c71243b9875f"
      },
      "execution_count": 30,
      "outputs": [
        {
          "output_type": "stream",
          "name": "stdout",
          "text": [
            "Informe seu salario:3200\n",
            "Informe quanto foi vendido:10000\n",
            "Informe sua comissão:5\n",
            "Seu salario bruto é: 3700.0\n"
          ]
        }
      ]
    }
  ]
}