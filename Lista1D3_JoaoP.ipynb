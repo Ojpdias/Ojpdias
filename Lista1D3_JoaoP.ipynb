{
  "nbformat": 4,
  "nbformat_minor": 0,
  "metadata": {
    "colab": {
      "provenance": [],
      "authorship_tag": "ABX9TyPPVl3npaSLcXDX4Wa0ezgt",
      "include_colab_link": true
    },
    "kernelspec": {
      "name": "python3",
      "display_name": "Python 3"
    },
    "language_info": {
      "name": "python"
    }
  },
  "cells": [
    {
      "cell_type": "markdown",
      "metadata": {
        "id": "view-in-github",
        "colab_type": "text"
      },
      "source": [
        "<a href=\"https://colab.research.google.com/github/Ojpdias/Ojpdias/blob/main/Lista1D3_JoaoP.ipynb\" target=\"_parent\"><img src=\"https://colab.research.google.com/assets/colab-badge.svg\" alt=\"Open In Colab\"/></a>"
      ]
    },
    {
      "cell_type": "markdown",
      "source": [
        "lista de exercicio 1."
      ],
      "metadata": {
        "id": "B3gO9gGl97r7"
      }
    },
    {
      "cell_type": "code",
      "execution_count": null,
      "metadata": {
        "colab": {
          "base_uri": "https://localhost:8080/"
        },
        "id": "SjOT-Is37AdG",
        "outputId": "cbe20ce5-bc37-4533-f715-1442cd569291"
      },
      "outputs": [
        {
          "output_type": "stream",
          "name": "stdout",
          "text": [
            "Meu primeiro programa!!!\n"
          ]
        }
      ],
      "source": [
        "#1. Escreva um programa que apresente na tela a frase: \"Meu primeiro programa!!!\"\n",
        "print(\"Meu primeiro programa!!!\");\n",
        "\n"
      ]
    },
    {
      "cell_type": "code",
      "source": [
        "#2. Escreva um programa que solicite ao usuário um número inteiro e ao final apresente na telao número informado pelo usuário do programa\n",
        "num1=input(\"informe um número: \");\n",
        "print(num1)"
      ],
      "metadata": {
        "colab": {
          "base_uri": "https://localhost:8080/"
        },
        "id": "ENej8Wg8GpVm",
        "outputId": "702f814b-2985-4d8c-e601-9fce880a06aa"
      },
      "execution_count": null,
      "outputs": [
        {
          "output_type": "stream",
          "name": "stdout",
          "text": [
            "informe o num1:8\n",
            "8\n"
          ]
        }
      ]
    },
    {
      "cell_type": "code",
      "source": [
        "#3. Escreva um programa que solicite ao usuário um número inteiro e ao final apresente na telao número informado da seguinte forma: \"Foi informado o valor: X\n",
        "num1=int(input(\"informe um número: \"))\n",
        "print(\"foi informado o valor:\",num1)"
      ],
      "metadata": {
        "colab": {
          "base_uri": "https://localhost:8080/"
        },
        "id": "Vmij_xrlH-3r",
        "outputId": "9204dc6b-628f-4984-8c29-bed15dcc8d93"
      },
      "execution_count": null,
      "outputs": [
        {
          "output_type": "stream",
          "name": "stdout",
          "text": [
            "informe o num1:10\n",
            "foi informado o valor: 10\n"
          ]
        }
      ]
    },
    {
      "cell_type": "code",
      "source": [
        "#4. Escreva um programa que solicite ao usuário dois números inteiros e ao final\n",
        "#apresente natela os dois números informados da seguinte forma: \"Voce informou os numeros X e Y\"\n",
        "num1=int(input(\"informe o primeiro número: \"))\n",
        "num2=int(input(\"informe o segundo número: \"))\n",
        "print(\"Voce informou os numeros \",num1,\" e \",num2)\n",
        "\n"
      ],
      "metadata": {
        "colab": {
          "base_uri": "https://localhost:8080/"
        },
        "id": "E-RyH4NjIpuC",
        "outputId": "74de3613-8661-4254-8b7f-65275a5c6bc7"
      },
      "execution_count": null,
      "outputs": [
        {
          "output_type": "stream",
          "name": "stdout",
          "text": [
            "informe um num1:10\n",
            "informe um num2:7\n",
            "Voce informou os numeros  10  e  7\n"
          ]
        }
      ]
    },
    {
      "cell_type": "code",
      "source": [
        "#5. Escreva um programa que solicite ao usuário um número real e ao\n",
        "#final apresente na tela o número informado formatado com duas casas decimais da seguinte forma: \"Voce informou o numero X.YY\n",
        "num1=float(input(\"informe um número quebrado: \"))\n",
        "num1Formatado=\"{:.2f}\".format(num1)\n",
        "print(\"você informou o número \", num1Formatado)\n"
      ],
      "metadata": {
        "id": "e4VxFVxuJzi2",
        "colab": {
          "base_uri": "https://localhost:8080/"
        },
        "outputId": "2d95a396-885b-48c2-8811-afe8cf42adfb"
      },
      "execution_count": null,
      "outputs": [
        {
          "output_type": "stream",
          "name": "stdout",
          "text": [
            "informe um número quebrado: 8.9872\n",
            "você informou o número  8.99\n"
          ]
        }
      ]
    },
    {
      "cell_type": "code",
      "source": [
        "#6. Escreva um programa que solicite ao usuário a temperatura em graus Celsius\n",
        "#e ao final apresente a temperatura correspondente em graus Farenheit. F = Celsius * 1.8 + 32\n",
        "graus=float(input(\"informe a temperatura em Celsius: \"))\n",
        "grausF = graus * 1.8 + 32\n",
        "print(\"A temperatura em Farenheit é: \", grausF)"
      ],
      "metadata": {
        "colab": {
          "base_uri": "https://localhost:8080/"
        },
        "id": "e_QXgHFWTzCn",
        "outputId": "a50cd3ca-e882-4fab-f1d5-c62308a8550f"
      },
      "execution_count": null,
      "outputs": [
        {
          "output_type": "stream",
          "name": "stdout",
          "text": [
            "informe a temperatura em Celsius: 34\n",
            "A temperatura em Farenheit é:  93.2\n"
          ]
        }
      ]
    },
    {
      "cell_type": "code",
      "source": [
        "#7. Escreva um programa que solicite ao usuário um número inteiro e um número real e\n",
        "#ao final apresente na tela os dois números informados formatando com duas casas decimaissomente o número real da seguinte forma: \"Voce informou os numeros N e X.YY\n",
        "numi=int(input(\"informe um número inteiro: \"))\n",
        "numr=float(input(\"informe um número quebrado: \"))\n",
        "numrformat=\"{:.2f}\".format(numr)\n",
        "print(\"Você informou os numeros \", numi, numrformat)"
      ],
      "metadata": {
        "colab": {
          "base_uri": "https://localhost:8080/"
        },
        "id": "IhrppbpKVii_",
        "outputId": "202f24d4-8482-4f42-e739-eeb5f54c7816"
      },
      "execution_count": null,
      "outputs": [
        {
          "output_type": "stream",
          "name": "stdout",
          "text": [
            "informe um número inteiro: 5\n",
            "informe um número quebrado: 8.1745\n",
            "Você informou os numeros  5 8.17\n"
          ]
        }
      ]
    },
    {
      "cell_type": "code",
      "source": [
        "#8. Escreva um programa que solicite ao usuário a primeira letra de seu nome e ao\n",
        "#final apresente na tela a letra informada pelo usuário da seguinte forma: \"Voce digitou w\"\n",
        "letra=str(input(\"Digite a primeira letra do seu nome: \"))\n",
        "print(\"Você digitou \", letra[0])"
      ],
      "metadata": {
        "colab": {
          "base_uri": "https://localhost:8080/"
        },
        "id": "cl14mTuDZ-zQ",
        "outputId": "714a48ff-c3d3-4303-8476-f2b586a85f2e"
      },
      "execution_count": null,
      "outputs": [
        {
          "output_type": "stream",
          "name": "stdout",
          "text": [
            "Digite a primeira letra do seu nome: joao\n",
            "Você digitou  j\n"
          ]
        }
      ]
    },
    {
      "cell_type": "code",
      "source": [
        "#9. Escreva um programa que solicite ao usuário o nome de sua cor preferida e ao\n",
        "#final apresente na tela a cor informada pelo usuário da seguinte forma: \"Voce gosta da cor AAA\n",
        "coresPermitidas=[\"vermelho\", \"laranja\", \"amarelo\", \"verde\", \"azul\", \"roxo\", \"rosa\", \"marrom\", \"cinza\", \"preto\", \"branco\"]\n",
        "cor=str(input(\"Digite sua cor favorita: \"))\n",
        "if cor in coresPermitidas:\n",
        "  print(\"Você gosta da cor\", cor)\n",
        "else:\n",
        "  print(\"Cor muito especifica ou não existe\")"
      ],
      "metadata": {
        "colab": {
          "base_uri": "https://localhost:8080/"
        },
        "id": "DEkgtlKSbC1p",
        "outputId": "352dc895-a1b9-41ce-cda8-79fbf66c665d"
      },
      "execution_count": null,
      "outputs": [
        {
          "output_type": "stream",
          "name": "stdout",
          "text": [
            "Digite sua cor favorita: azul\n",
            "Você gosta da cor azul\n"
          ]
        }
      ]
    },
    {
      "cell_type": "code",
      "source": [
        "#10. Escreva um programa que solicite ao usuário o nome de uma verdura e uma fruta de sua preferencia e ao\n",
        "#final apresente na tela as informações digitadas pelo usuário da seguinte forma: \"Voce gosta de AAAAAAA e BBBBBBB\"\n",
        "verduras_e_frutas = [\n",
        "    \"alface\", \"espinafre\", \"cenoura\", \"beterraba\", \"brócolis\", \"couve-flor\",\n",
        "    \"tomate\", \"abacaxi\", \"maçã\", \"banana\", \"laranja\", \"uva\",\n",
        "    \"morango\", \"pera\", \"manga\", \"pimentão\", \"abobrinha\", \"berinjela\",\n",
        "    \"cebola\", \"batata\", \"abóbora\", \"kiwi\", \"limão\", \"pêssego\",\n",
        "    \"abacate\", \"melancia\", \"goiaba\", \"melão\", \"pepino\", \"repolho\",\n",
        "    \"rabanete\", \"couve\", \"salsinha\", \"coentro\", \"pimenta\", \"laranja\",\n",
        "    \"framboesa\", \"cereja\", \"kiwi\", \"pêssego\", \"papaya\", \"melancia\"\n",
        "]\n",
        "verdura=str(input(\"Digite sua verdura preferida:\"))\n",
        "fruta=str(input(\"Digite sua fruta preferida:\"))\n",
        "if verdura and fruta in verduras_e_frutas:\n",
        "  print(\"Voce gosta de\", verdura,\"e\", fruta)\n",
        "else:\n",
        "  print(\"Fruta ou verdura invalida\")\n",
        "\n"
      ],
      "metadata": {
        "colab": {
          "base_uri": "https://localhost:8080/"
        },
        "id": "T78GIhJ1dxoV",
        "outputId": "72476f3a-34db-4cf9-d9e1-1aafaa2d2f1f"
      },
      "execution_count": null,
      "outputs": [
        {
          "output_type": "stream",
          "name": "stdout",
          "text": [
            "Digite sua verdura preferida:abóbora\n",
            "Digite sua fruta preferida:kiwi\n",
            "Voce gosta de abóbora e kiwi\n"
          ]
        }
      ]
    },
    {
      "cell_type": "code",
      "source": [
        "#11. Elabore um algoritmo que solicite ao usuário um número real e ao\n",
        "#final imprima na tela o numero informado e na linha de baixo o dobro deste número da seguinte forma:Numero -> X Dobro deste numero -> Y\n",
        "num=float(input(\"Digite um número:\"))\n",
        "numDobro= num * 2\n",
        "print(\"Numero:\",num)\n",
        "print(\"Dobro deste numero\", numDobro)"
      ],
      "metadata": {
        "colab": {
          "base_uri": "https://localhost:8080/"
        },
        "id": "0BLZom-ohFM6",
        "outputId": "d88f48cc-6188-40ff-f6ef-50e3156db053"
      },
      "execution_count": null,
      "outputs": [
        {
          "output_type": "stream",
          "name": "stdout",
          "text": [
            "Digite um número:8\n",
            "Numero: 8.0\n",
            "Dobro deste numero 16.0\n"
          ]
        }
      ]
    },
    {
      "cell_type": "code",
      "source": [
        "#12. Reescrever o programa anterior apresentando o quadrado e o cubo do número informado\n",
        "num=float(input(\"Digite um número:\"))\n",
        "numDobro=num * 2\n",
        "numQuadrado= num ** 2\n",
        "numCubo= num ** 3\n",
        "print(\"Numero:\",num)\n",
        "print(\"Dobro deste numero\", numDobro)\n",
        "print(\"O quadrado deste numero\", numQuadrado)\n",
        "print(\"O cubo deste numero\", numCubo)\n"
      ],
      "metadata": {
        "colab": {
          "base_uri": "https://localhost:8080/"
        },
        "id": "HlXvEavqj5vA",
        "outputId": "c3ce848d-6bd5-4e8d-d492-4c6afac7cdc3"
      },
      "execution_count": null,
      "outputs": [
        {
          "output_type": "stream",
          "name": "stdout",
          "text": [
            "Digite um número:8\n",
            "Numero: 8.0\n",
            "Dobro deste numero 16.0\n",
            "O quadrado deste numero 64.0\n",
            "O cubo deste numero 512.0\n"
          ]
        }
      ]
    },
    {
      "cell_type": "code",
      "source": [
        "#13. Escreva um programa que solicite ao usuário dois números inteiros e ao\n",
        "#final apresentena tela a soma dos dois números informados da seguinte forma: \"O numeros N e X somados correspondem a Y\"\n",
        "num1=int(input(\"Digite o primeiro número:\"))\n",
        "num2=int(input(\"Digite o segundo número:\"))\n",
        "nums= num1 + num2\n",
        "print(\"Os numeros\", num1,\"e\", num2, \"somados correspondem a\", nums)"
      ],
      "metadata": {
        "colab": {
          "base_uri": "https://localhost:8080/"
        },
        "id": "2vQsHlRqkucQ",
        "outputId": "0ce08270-cf8e-499d-aa2c-2aa79673af95"
      },
      "execution_count": null,
      "outputs": [
        {
          "output_type": "stream",
          "name": "stdout",
          "text": [
            "Digite o primeiro número:8\n",
            "Digite o segundo número:6\n",
            "Os numeros 8 e 6 somados correspondem a 14\n"
          ]
        }
      ]
    },
    {
      "cell_type": "code",
      "source": [
        "#14. Escreva um programa que solicite ao usuário dois números reais e ao\n",
        "#final apresente na tela o produto dos dois números informados da seguinte forma: \"O produto dos numeros N e X corresponde a Y\"\n",
        "num1=float(input(\"Digite o primeiro número:\"))\n",
        "num2=float(input(\"Digite o segundo número:\"))\n",
        "numMult= num1 * num2\n",
        "print(\"O produto dos numeros\", num1, \"e\", num2, \"corresponde a\", numMult)\n",
        "\n",
        "\n"
      ],
      "metadata": {
        "colab": {
          "base_uri": "https://localhost:8080/"
        },
        "id": "m474Vpa2l_7p",
        "outputId": "45f121ba-9380-4343-c296-8270e9e248f8"
      },
      "execution_count": null,
      "outputs": [
        {
          "output_type": "stream",
          "name": "stdout",
          "text": [
            "Digite o primeiro número:5\n",
            "Digite o segundo número:5\n",
            "O produto dos numeros 5.0 e 5.0 corresponde a 25.0\n"
          ]
        }
      ]
    },
    {
      "cell_type": "code",
      "source": [
        "#15. Refazer o programa 14 realizando as quatro operações aritméticas básicas\n",
        "num1=float(input(\"Digite o primeiro número:\"))\n",
        "num2=float(input(\"Digite o segundo número:\"))\n",
        "numSoma= num + num2\n",
        "numSub= num1 - num2\n",
        "numMult= num1 * num2\n",
        "numDiv= num1 / num2\n",
        "print(\"O soma dos numeros\", num1, \"e\", num2, \"corresponde a\", numSoma)\n",
        "print(\"O subtração dos numeros\", num1, \"e\", num2, \"corresponde a\", numSub)\n",
        "print(\"O produto dos numeros\", num1, \"e\", num2, \"corresponde a\", numMult)\n",
        "print(\"O divisão dos numeros\", num1, \"e\", num2, \"corresponde a\", numDiv)"
      ],
      "metadata": {
        "colab": {
          "base_uri": "https://localhost:8080/"
        },
        "id": "ySODkmAxnORy",
        "outputId": "5699e0ac-f6f5-48b8-cea7-f3afdc83e98f"
      },
      "execution_count": null,
      "outputs": [
        {
          "output_type": "stream",
          "name": "stdout",
          "text": [
            "Digite o primeiro número:8\n",
            "Digite o segundo número:2\n",
            "O soma dos numeros 8.0 e 2.0 corresponde a 10.0\n",
            "O subtração dos numeros 8.0 e 2.0 corresponde a 6.0\n",
            "O produto dos numeros 8.0 e 2.0 corresponde a 16.0\n",
            "O divisão dos numeros 8.0 e 2.0 corresponde a 4.0\n"
          ]
        }
      ]
    },
    {
      "cell_type": "code",
      "source": [
        "#16. Escreva um programa que solicite o valor fixo do salário de um vendedor, o total vendido no mês e o percentual de comissão do vendedor.\n",
        "#Ao final apresentar o salário bruto.\n",
        "salario=float(input(\"Informe seu salario:\"))\n",
        "vendido=float(input(\"Informe quanto foi vendido:\"))\n",
        "comissao=float(input(\"Informe sua comissão:\"))\n",
        "valorComissao= vendido * (comissao/100)\n",
        "valorBruto= salario + valorComissao\n",
        "print(\"Seu salario bruto é:\", valorBruto)"
      ],
      "metadata": {
        "colab": {
          "base_uri": "https://localhost:8080/"
        },
        "id": "VdJ6zoR6oYWc",
        "outputId": "1c4fd9f7-2588-4401-e469-88f21a673907"
      },
      "execution_count": null,
      "outputs": [
        {
          "output_type": "stream",
          "name": "stdout",
          "text": [
            "Informe seu salario:3200\n",
            "Informe quanto foi vendido:10000\n",
            "Informe sua comissão:5\n",
            "Seu salario bruto é: 3700.0\n"
          ]
        }
      ]
    }
  ]
}