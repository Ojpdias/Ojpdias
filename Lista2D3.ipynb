{
  "nbformat": 4,
  "nbformat_minor": 0,
  "metadata": {
    "colab": {
      "provenance": [],
      "authorship_tag": "ABX9TyOmtepHKb1xt3EcCHGD17wl",
      "include_colab_link": true
    },
    "kernelspec": {
      "name": "python3",
      "display_name": "Python 3"
    },
    "language_info": {
      "name": "python"
    }
  },
  "cells": [
    {
      "cell_type": "markdown",
      "metadata": {
        "id": "view-in-github",
        "colab_type": "text"
      },
      "source": [
        "<a href=\"https://colab.research.google.com/github/Ojpdias/Ojpdias/blob/main/Lista2D3.ipynb\" target=\"_parent\"><img src=\"https://colab.research.google.com/assets/colab-badge.svg\" alt=\"Open In Colab\"/></a>"
      ]
    },
    {
      "cell_type": "code",
      "execution_count": null,
      "metadata": {
        "colab": {
          "base_uri": "https://localhost:8080/"
        },
        "id": "ZbuqLAEwKUvT",
        "outputId": "55bd5fa7-ea79-452f-fd18-7abeb7888a88"
      },
      "outputs": [
        {
          "output_type": "stream",
          "name": "stdout",
          "text": [
            "Digite um número: 11\n",
            "O número e maior que 10\n"
          ]
        }
      ],
      "source": [
        "#1. Elabore um programa que solicite ao usuário um número real e ao final imprima na tela se o número informado é maior que 10 (dez)\n",
        "num=(float(input(\"Digite um número: \")))\n",
        "if num >= 10:\n",
        "  print(\"O número e maior que 10\")"
      ]
    },
    {
      "cell_type": "code",
      "source": [
        "#2. Escreva um programa que solicite ao usuário um número real e ao final imprima na tela seo número informado é maior ou igual a dez ou menor que 10 (dez)\n",
        "num=(float(input(\"Digite um número: \")))\n",
        "if num >= 10:\n",
        "  print(\"O número e maior ou igual a 10\")\n",
        "else:\n",
        "  print(\"O número e menor que 10\")"
      ],
      "metadata": {
        "colab": {
          "base_uri": "https://localhost:8080/",
          "height": 0
        },
        "id": "RfRVg5m1M4Nw",
        "outputId": "e962d250-ba15-4f92-c44a-052c9567dd44"
      },
      "execution_count": 5,
      "outputs": [
        {
          "output_type": "stream",
          "name": "stdout",
          "text": [
            "Digite um número: 9\n",
            "O número e menor que 10\n"
          ]
        }
      ]
    },
    {
      "cell_type": "code",
      "source": [
        "#3. Elabore um algoritmo que solicite ao usuário um número real e ao\n",
        "# final imprima na tela se o número informado é maior que dez, se é menor que dez, ou se é igual a dez\n",
        "num=(float(input(\"Digite um número: \")))\n",
        "if num > 10:\n",
        "  print(\"O número e maior que 10\")\n",
        "elif num == 10:\n",
        "    print(\"O número e igual a 10\")\n",
        "else:\n",
        "  print(\"O número e menor que 10\")\n"
      ],
      "metadata": {
        "id": "o9AiPIneOJsw"
      },
      "execution_count": null,
      "outputs": []
    },
    {
      "cell_type": "code",
      "source": [
        "#4. Elabore um algoritmo que solicite ao usuário um número real e ao final imprima na tela se o número informado é positivo, negativo ou nulo (zero)\n",
        "num=(float(input(\"Digite um número: \")))\n",
        "if num == 0:\n",
        "  print(\"O número e nulo\")\n",
        "elif num > 0:\n",
        "  print(\"O número e positivo\")\n",
        "else:\n",
        "  print(\"O número e negativo\")"
      ],
      "metadata": {
        "colab": {
          "base_uri": "https://localhost:8080/",
          "height": 0
        },
        "id": "rFPgKrE4JlSJ",
        "outputId": "37f2302b-f554-4d94-ab32-0bbf416d40c5"
      },
      "execution_count": 9,
      "outputs": [
        {
          "output_type": "stream",
          "name": "stdout",
          "text": [
            "Digite um número: -8\n",
            "O número e negativo\n"
          ]
        }
      ]
    },
    {
      "cell_type": "code",
      "source": [
        "#5. Elabore um algoritmo que leia um número inteiro e imprima uma das mensagens: é múltiplo de 3, ou, não é múltiplo de 3\n",
        "num=(int(input(\"Digite um número: \")))\n",
        "if num % 3 == 0:\n",
        "  print(\"E multiplo de 3\")\n",
        "else:\n",
        "  print(\"Não e multiplo de 3\")"
      ],
      "metadata": {
        "colab": {
          "base_uri": "https://localhost:8080/",
          "height": 0
        },
        "id": "x8R9mVNNK0Zn",
        "outputId": "0e3a5d51-b8f9-41f2-933c-a7871f8191b3"
      },
      "execution_count": 14,
      "outputs": [
        {
          "output_type": "stream",
          "name": "stdout",
          "text": [
            "Digite um número: 70\n",
            "Não e multiplo de 3\n"
          ]
        }
      ]
    },
    {
      "cell_type": "code",
      "source": [
        "#6. Refazer o exercício anterior, solicitando antes o múltiplo a ser testado\n",
        "mult=(int(input(\"Digite o multiplo a ser testado: \")))\n",
        "num=(int(input(\"Digite um número: \")))\n",
        "if num % mult == 0:\n",
        "  print(f\"E multiplo de {mult}\")\n",
        "else:\n",
        "  print(f\"Não e multiplo de {mult}\")"
      ],
      "metadata": {
        "colab": {
          "base_uri": "https://localhost:8080/",
          "height": 0
        },
        "id": "mlTRHgWQMDNE",
        "outputId": "5cf2ae84-c88f-481e-e797-8ffed3e24833"
      },
      "execution_count": 18,
      "outputs": [
        {
          "output_type": "stream",
          "name": "stdout",
          "text": [
            "Digite o multiplo a ser testado: 4\n",
            "Digite um número: 80\n",
            "E multiplo de 4\n"
          ]
        }
      ]
    },
    {
      "cell_type": "code",
      "source": [
        "#7. Desenvolva um algoritmo que classifique um número inteiro fornecido pelo usuário como par ou ímpar\n",
        "num=(int(input(\"Digite um número: \")))\n",
        "if num % 2 == 0:\n",
        "  print(f\"{num} e par\")\n",
        "else:\n",
        "    print(f\"{num} e ímpar\")"
      ],
      "metadata": {
        "colab": {
          "base_uri": "https://localhost:8080/",
          "height": 0
        },
        "id": "CEbAxwhYN_ke",
        "outputId": "8206a8ea-c52a-4d9c-f0cb-4f62128f726d"
      },
      "execution_count": 22,
      "outputs": [
        {
          "output_type": "stream",
          "name": "stdout",
          "text": [
            "Digite um número: 5\n",
            "5 e ímpar\n"
          ]
        }
      ]
    },
    {
      "cell_type": "code",
      "source": [
        "#8. Elabore um algoritmo que leia um número, e se ele for maior do que 20, imprimir a metade desse número, caso contrário, imprimir o dobro do número\n",
        "num=(int(input(\"digite um número: \")))\n",
        "if num >= 20:\n",
        "  print(num/2)\n",
        "else:\n",
        "  print(num*2)"
      ],
      "metadata": {
        "colab": {
          "base_uri": "https://localhost:8080/",
          "height": 0
        },
        "id": "JnP0EH4_PO_J",
        "outputId": "ff26e3d8-847e-44ae-b624-509d60a3354d"
      },
      "execution_count": 28,
      "outputs": [
        {
          "output_type": "stream",
          "name": "stdout",
          "text": [
            "digte um número: 7\n",
            "14\n"
          ]
        }
      ]
    },
    {
      "cell_type": "code",
      "source": [
        "#9. Elabore um algoritmo que leia dois números inteiros e realize a adição; caso o resultado seja maior que 10, imprima o quadrado do resultado, caso contrário, imprima a metade dele\n",
        "num=(int(input(\"digite um número: \")))\n",
        "num2=(int(input(\"digite um número: \")))\n",
        "soma= num + num2\n",
        "if soma >= 10:\n",
        "  print(soma**2)\n",
        "else:\n",
        "  print(soma/2)"
      ],
      "metadata": {
        "colab": {
          "base_uri": "https://localhost:8080/",
          "height": 0
        },
        "id": "fVfDJphsQG1z",
        "outputId": "61a141f8-bc0c-4412-ee7c-94bf84c4a6f6"
      },
      "execution_count": 30,
      "outputs": [
        {
          "output_type": "stream",
          "name": "stdout",
          "text": [
            "digte um número: 5\n",
            "digte um número: 5\n",
            "100\n"
          ]
        }
      ]
    },
    {
      "cell_type": "code",
      "source": [
        "#10. O sistema de avaliação de determinada disciplina é composto por três provas. A primeiraprova tem peso 2, a segunda tem peso 3 e a terceira tem peso 5. Considerando que amédia para aprovação é 6.0, faça um algoritmo para calcular a média final de um alunodesta disciplina e dizer se o aluno foi aprovado ou não\n",
        "prova1 = float(input(\"Digite a nota da primeira prova: \"))\n",
        "prova2 = float(input(\"Digite a nota da segunda prova: \"))\n",
        "prova3 = float(input(\"Digite a nota da terceira prova: \"))\n",
        "peso1 = 2\n",
        "peso2 = 3\n",
        "peso3 = 5\n",
        "media = (prova1 * peso1 + prova2 * peso2 + prova3 * peso3) / (peso1 + peso2 + peso3)\n",
        "if media >= 6.0:\n",
        "    print(f\"Média final: {media:.2f}\")\n",
        "    print(\"Aluno aprovado!\")\n",
        "else:\n",
        "    print(f\"Média final: {media:.2f}\")\n",
        "    print(\"Aluno reprovado.\")"
      ],
      "metadata": {
        "colab": {
          "base_uri": "https://localhost:8080/",
          "height": 0
        },
        "id": "G2Mc3yZHTNmo",
        "outputId": "017302a5-b237-40c5-f31c-b7b01f026624"
      },
      "execution_count": 31,
      "outputs": [
        {
          "output_type": "stream",
          "name": "stdout",
          "text": [
            "Digite a nota da primeira prova: 5\n",
            "Digite a nota da segunda prova: 7\n",
            "Digite a nota da terceira prova: 7\n",
            "Média final: 6.60\n",
            "Aluno aprovado!\n"
          ]
        }
      ]
    },
    {
      "cell_type": "code",
      "source": [
        "#11. Elabore um algoritmo que leia o nome e o peso de duas pessoas e imprima o nome dapessoa mais pesada.\n",
        "p1Nome=(str(input(\"digite seu nome: \")))\n",
        "p1Peso=(float(input(\"digite seu peso: \")))\n",
        "p2Nome=(str(input(\"digite seu nome: \")))\n",
        "p2Peso=(float(input(\"digite seu peso: \")))\n",
        "if p1Peso > p2Peso:\n",
        "  print(f\"{p1Nome} e mais pesado(a) que {p2Nome}\")\n",
        "else:\n",
        "  print(f\"{p2Nome} e mais pesado(a) que {p1Nome}\")"
      ],
      "metadata": {
        "colab": {
          "base_uri": "https://localhost:8080/"
        },
        "id": "T9wwbppQVC22",
        "outputId": "64fa7cdc-b513-43a1-84d7-35bd4703cdcd"
      },
      "execution_count": 37,
      "outputs": [
        {
          "output_type": "stream",
          "name": "stdout",
          "text": [
            "digite seu nome: Joao\n",
            "digite seu peso: 55\n",
            "digite seu nome: Pedro\n",
            "digite seu peso: 80\n",
            "Pedro e mais pesado(a) que Joao\n"
          ]
        }
      ]
    },
    {
      "cell_type": "code",
      "source": [
        "#12. Elabore um algoritmo que indique se um número digitado está compreendido entre 20 e 90, ou não\n",
        "num=(float(input(\"Digite um número: \")))\n",
        "if num > 20 and num < 90:\n",
        "  print(f\"{num} esta entre 20 e 90\")\n",
        "else:\n",
        "  print(f\"{num} não esta entre 20 e 90\")"
      ],
      "metadata": {
        "colab": {
          "base_uri": "https://localhost:8080/"
        },
        "id": "TDXW-CqYaQ2e",
        "outputId": "e5b0863a-95a1-4a30-ec6e-6e70da82f4ec"
      },
      "execution_count": 40,
      "outputs": [
        {
          "output_type": "stream",
          "name": "stdout",
          "text": [
            "Digite um número: 80\n",
            "80.0 esta entre 20 e 90\n"
          ]
        }
      ]
    },
    {
      "cell_type": "code",
      "source": [
        "#13. Elabore um algoritmo que leia dois números e imprima qual é maior, qual é menor, ou se são iguais\n",
        "num1=(float(input(\"Digite um número: \")))\n",
        "num2=(float(input(\"Digite um número: \")))\n",
        "maior = 0\n",
        "menor = 0\n",
        "if num1 > num2:\n",
        "  maior = num1\n",
        "  menor = num2\n",
        "  print(f\"maior: {maior}\")\n",
        "  print(f\"menor: {menor}\")\n",
        "elif num2 > num1:\n",
        "  maior = num2\n",
        "  menor = num1\n",
        "  print(f\"maior: {maior}\")\n",
        "  print(f\"menor: {menor}\")\n",
        "else:\n",
        " print(\"Os números são iguais\")"
      ],
      "metadata": {
        "colab": {
          "base_uri": "https://localhost:8080/"
        },
        "id": "-LmaHktCb5U5",
        "outputId": "e8180c8f-da62-4858-dfcb-00a4ded97e25"
      },
      "execution_count": 50,
      "outputs": [
        {
          "output_type": "stream",
          "name": "stdout",
          "text": [
            "Digite um número: 100\n",
            "Digite um número: 90\n",
            "maior: 100.0\n",
            "menor: 90.0\n"
          ]
        }
      ]
    },
    {
      "cell_type": "code",
      "source": [
        "#14. Escreva um programa em linguagem C que solicite ao usuário a média para aprovaçãoem um curso e em seguida solicite ao usuário o nome, sexo e as 03 notas do aluno e aofinal imprima a frase: \"O aluno XXXXX foi aprovado com media YY\" considerando o gênerodo(a) aluno(a) e se foi aprovado(a) ou reprovado(a)\n",
        "mediaAprov=(float(input(\"Digite a media para a aprovação do curso: \")))\n",
        "nome=(str(input(\"Digite seu nome: \")))\n",
        "sexo=(str(input(\"Digite seu sexo: \")))\n",
        "sexo=sexo.lower()\n",
        "\n",
        "nota1=(float(input(\"Digite a primeira nota: \")))\n",
        "nota2=(float(input(\"Digite a segunda nota: \")))\n",
        "nota3=(float(input(\"Digite a terceira nota: \")))\n",
        "\n",
        "mediaFinal=(nota1+nota2+nota3)/3\n",
        "\n",
        "if mediaFinal >= mediaAprov:\n",
        "    if sexo == \"masculino\":\n",
        "        print(f\"O aluno {nome} foi aprovado com média {mediaFinal:.2f}.\")\n",
        "    elif sexo == \"feminino\":\n",
        "        print(f\"A aluna {nome} foi aprovada com média {mediaFinal:.2f}.\")\n",
        "    else:\n",
        "        print(f\"O(a) aluno(a) {nome} foi aprovado(a) com média {mediaFinal:.2f}.\")\n",
        "else:\n",
        "    if sexo == \"masculino\":\n",
        "        print(f\"O aluno {nome} foi reprovado com média {mediaFinal:.2f}.\")\n",
        "    elif sexo == \"feminino\":\n",
        "        print(f\"A aluna {nome} foi reprovada com média {mediaFinal:.2f}.\")\n",
        "    else:\n",
        "        print(f\"O(a) aluno(a) {nome} foi reprovado(a) com média {mediaFinal:.2f}.\")"
      ],
      "metadata": {
        "colab": {
          "base_uri": "https://localhost:8080/"
        },
        "id": "m4EO0sWLfIm5",
        "outputId": "682fb7c6-f3b6-4ed1-dd47-bc97312ebe13"
      },
      "execution_count": 52,
      "outputs": [
        {
          "output_type": "stream",
          "name": "stdout",
          "text": [
            "Digite a media para a aprovação do curso: 6\n",
            "Digite seu nome: Joao\n",
            "Digite seu sexo: masculino\n",
            "Digite a primeira nota: 5\n",
            "Digite a segunda nota: 7.2\n",
            "Digite a terceira nota: 7\n",
            "O aluno Joao foi aprovado com média 6.40.\n"
          ]
        }
      ]
    }
  ]
}